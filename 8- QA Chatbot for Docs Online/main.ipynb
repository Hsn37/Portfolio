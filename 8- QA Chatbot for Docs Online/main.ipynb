{
 "cells": [
  {
   "cell_type": "markdown",
   "metadata": {},
   "source": [
    "### Build a Question Answering Chatbot over Documents with Sources"
   ]
  },
  {
   "cell_type": "code",
   "execution_count": 1,
   "metadata": {},
   "outputs": [],
   "source": [
    "import requests\n",
    "from newspaper import Article # https://github.com/codelucas/newspaper\n",
    "import time\n",
    "\n",
    "headers = {\n",
    "    'User-Agent': 'Mozilla/5.0 (Windows NT 10.0; Win64; x64) AppleWebKit/537.36 (KHTML, like Gecko) Chrome/89.0.4389.82 Safari/537.36'\n",
    "}\n",
    "\n",
    "article_urls = [\n",
    "    \"https://www.artificialintelligence-news.com/2023/05/16/openai-ceo-ai-regulation-is-essential/\",\n",
    "    \"https://www.artificialintelligence-news.com/2023/05/15/jay-migliaccio-ibm-watson-on-leveraging-ai-to-improve-productivity/\",\n",
    "    \"https://www.artificialintelligence-news.com/2023/05/15/iurii-milovanov-softserve-how-ai-ml-is-helping-boost-innovation-and-personalisation/\",\n",
    "    \"https://www.artificialintelligence-news.com/2023/05/11/ai-and-big-data-expo-north-america-begins-in-less-than-one-week/\",\n",
    "    \"https://www.artificialintelligence-news.com/2023/05/02/ai-godfather-warns-dangers-and-quits-google/\",\n",
    "    \"https://www.artificialintelligence-news.com/2023/04/28/palantir-demos-how-ai-can-used-military/\"\n",
    "]\n",
    "\n",
    "session = requests.Session()\n",
    "pages_content = [] # where we save the scraped articles\n",
    "\n",
    "for url in article_urls:\n",
    "    try:\n",
    "        time.sleep(2) # sleep two seconds for gentle scraping\n",
    "        response = session.get(url, headers=headers, timeout=10)\n",
    "\n",
    "        if response.status_code == 200:\n",
    "            article = Article(url)\n",
    "            article.download() # download HTML of webpage\n",
    "            article.parse() # parse HTML to extract the article text\n",
    "            pages_content.append({ \"url\": url, \"text\": article.text })\n",
    "        else:\n",
    "            print(f\"Failed to fetch article at {url}\")\n",
    "    except Exception as e:\n",
    "        print(f\"Error occurred while fetching article at {url}: {e}\")\n",
    "\n",
    "#If an error occurs while fetching an article, we catch the exception and print\n",
    "#an error message. This ensures that even if one article fails to download,\n",
    "#the rest of the articles can still be processed."
   ]
  },
  {
   "cell_type": "code",
   "execution_count": 2,
   "metadata": {},
   "outputs": [
    {
     "name": "stdout",
     "output_type": "stream",
     "text": [
      "Your Deep Lake dataset has been successfully created!\n",
      "The dataset is private so make sure you are logged in!\n"
     ]
    },
    {
     "name": "stderr",
     "output_type": "stream",
     "text": [
      " \r"
     ]
    }
   ],
   "source": [
    "from langchain.embeddings.openai import OpenAIEmbeddings\n",
    "from langchain.vectorstores import DeepLake\n",
    "\n",
    "embeddings = OpenAIEmbeddings(model=\"text-embedding-ada-002\")\n",
    "\n",
    "# TODO: use your organization id here. (by default, org id is your username)\n",
    "my_activeloop_org_id = \"mbilalshahid\"\n",
    "my_activeloop_dataset_name = \"langchain_course_qabot_with_source\"\n",
    "dataset_path = f\"hub://{my_activeloop_org_id}/{my_activeloop_dataset_name}\"\n",
    "\n",
    "db = DeepLake(dataset_path=dataset_path, embedding_function=embeddings)"
   ]
  },
  {
   "cell_type": "code",
   "execution_count": 3,
   "metadata": {},
   "outputs": [],
   "source": [
    "# We split the article texts into small chunks. While doing so, we keep track of each\n",
    "# chunk metadata (i.e. the URL where it comes from). Each metadata is a dictionary and\n",
    "# we need to use the \"source\" key for the document source so that we can then use the\n",
    "# RetrievalQAWithSourcesChain class which will automatically retrieve the \"source\" item\n",
    "# from the metadata dictionary.\n",
    "\n",
    "from langchain.text_splitter import RecursiveCharacterTextSplitter\n",
    "\n",
    "text_splitter = RecursiveCharacterTextSplitter(chunk_size=1000, chunk_overlap=100)\n",
    "\n",
    "all_texts, all_metadatas = [], []\n",
    "for d in pages_content:\n",
    "    chunks = text_splitter.split_text(d[\"text\"])\n",
    "    for chunk in chunks:\n",
    "        all_texts.append(chunk)\n",
    "        all_metadatas.append({ \"source\": d[\"url\"] })"
   ]
  },
  {
   "cell_type": "code",
   "execution_count": 4,
   "metadata": {},
   "outputs": [
    {
     "name": "stderr",
     "output_type": "stream",
     "text": [
      "-"
     ]
    },
    {
     "name": "stdout",
     "output_type": "stream",
     "text": [
      "Dataset(path='hub://mbilalshahid/langchain_course_qabot_with_source', tensors=['embedding', 'id', 'metadata', 'text'])\n",
      "\n",
      "  tensor      htype      shape      dtype  compression\n",
      "  -------    -------    -------    -------  ------- \n",
      " embedding  embedding  (49, 1536)  float32   None   \n",
      "    id        text      (49, 1)      str     None   \n",
      " metadata     json      (49, 1)      str     None   \n",
      "   text       text      (49, 1)      str     None   \n"
     ]
    },
    {
     "name": "stderr",
     "output_type": "stream",
     "text": [
      " \r"
     ]
    },
    {
     "data": {
      "text/plain": [
       "['491e43ff-56d7-11ee-b60b-d83bbf21f498',\n",
       " '491e4400-56d7-11ee-98a7-d83bbf21f498',\n",
       " '491e4401-56d7-11ee-b082-d83bbf21f498',\n",
       " '491e4402-56d7-11ee-b8f9-d83bbf21f498',\n",
       " '491e4403-56d7-11ee-9aea-d83bbf21f498',\n",
       " '491e6aed-56d7-11ee-8297-d83bbf21f498',\n",
       " '491e6aee-56d7-11ee-9092-d83bbf21f498',\n",
       " '491e6aef-56d7-11ee-bdca-d83bbf21f498',\n",
       " '491e6af0-56d7-11ee-a0b8-d83bbf21f498',\n",
       " '491e6af1-56d7-11ee-9f19-d83bbf21f498',\n",
       " '491e6af2-56d7-11ee-99ea-d83bbf21f498',\n",
       " '491e6af3-56d7-11ee-bac4-d83bbf21f498',\n",
       " '491e6af4-56d7-11ee-b229-d83bbf21f498',\n",
       " '491e6af5-56d7-11ee-b51c-d83bbf21f498',\n",
       " '491e6af6-56d7-11ee-9369-d83bbf21f498',\n",
       " '491e6af7-56d7-11ee-bdf0-d83bbf21f498',\n",
       " '491e6af8-56d7-11ee-9e80-d83bbf21f498',\n",
       " '491e6af9-56d7-11ee-96ea-d83bbf21f498',\n",
       " '491e6afa-56d7-11ee-a556-d83bbf21f498',\n",
       " '491e6afb-56d7-11ee-b910-d83bbf21f498',\n",
       " '491e6afc-56d7-11ee-ba1e-d83bbf21f498',\n",
       " '491e6afd-56d7-11ee-8dfa-d83bbf21f498',\n",
       " '491e6afe-56d7-11ee-a04c-d83bbf21f498',\n",
       " '491e6aff-56d7-11ee-88e9-d83bbf21f498',\n",
       " '491e6b00-56d7-11ee-9209-d83bbf21f498',\n",
       " '491e6b01-56d7-11ee-88f1-d83bbf21f498',\n",
       " '491e6b02-56d7-11ee-b05f-d83bbf21f498',\n",
       " '491e6b03-56d7-11ee-8611-d83bbf21f498',\n",
       " '491e6b04-56d7-11ee-a793-d83bbf21f498',\n",
       " '491e6b05-56d7-11ee-b329-d83bbf21f498',\n",
       " '491e6b06-56d7-11ee-9008-d83bbf21f498',\n",
       " '491e6b07-56d7-11ee-bf2f-d83bbf21f498',\n",
       " '491e6b08-56d7-11ee-ba39-d83bbf21f498',\n",
       " '491e6b09-56d7-11ee-a215-d83bbf21f498',\n",
       " '491e6b0a-56d7-11ee-bee5-d83bbf21f498',\n",
       " '491e6b0b-56d7-11ee-ad21-d83bbf21f498',\n",
       " '491e6b0c-56d7-11ee-b3da-d83bbf21f498',\n",
       " '491e6b0d-56d7-11ee-a685-d83bbf21f498',\n",
       " '491e6b0e-56d7-11ee-b9bd-d83bbf21f498',\n",
       " '491e6b0f-56d7-11ee-8967-d83bbf21f498',\n",
       " '491e6b10-56d7-11ee-93d9-d83bbf21f498',\n",
       " '491e6b11-56d7-11ee-8652-d83bbf21f498',\n",
       " '491e6b12-56d7-11ee-aeb5-d83bbf21f498',\n",
       " '491e6b13-56d7-11ee-84b8-d83bbf21f498',\n",
       " '491e6b14-56d7-11ee-b986-d83bbf21f498',\n",
       " '491e6b15-56d7-11ee-b66e-d83bbf21f498',\n",
       " '491e6b16-56d7-11ee-abc6-d83bbf21f498',\n",
       " '491e6b17-56d7-11ee-9521-d83bbf21f498',\n",
       " '491e6b18-56d7-11ee-9e37-d83bbf21f498']"
      ]
     },
     "execution_count": 4,
     "metadata": {},
     "output_type": "execute_result"
    }
   ],
   "source": [
    "# we add all the chunks to the deep lake, along with their metadata\n",
    "db.add_texts(all_texts, all_metadatas)"
   ]
  },
  {
   "cell_type": "code",
   "execution_count": 5,
   "metadata": {},
   "outputs": [],
   "source": [
    "# we create a RetrievalQAWithSourcesChain chain, which is very similar to a\n",
    "# standard retrieval QA chain but it also keeps track of the sources of the\n",
    "# retrieved documents\n",
    "\n",
    "from langchain.chains import RetrievalQAWithSourcesChain\n",
    "from langchain import OpenAI\n",
    "\n",
    "llm = OpenAI(model_name=\"text-davinci-003\", temperature=0)\n",
    "\n",
    "chain = RetrievalQAWithSourcesChain.from_chain_type(llm=llm,\n",
    "                                                    chain_type=\"stuff\",\n",
    "                                                    retriever=db.as_retriever())"
   ]
  },
  {
   "cell_type": "code",
   "execution_count": 6,
   "metadata": {},
   "outputs": [
    {
     "name": "stdout",
     "output_type": "stream",
     "text": [
      "Response:\n",
      " Geoffrey Hinton believes that the rapid development of generative AI products is \"racing towards danger\" and that false text, images, and videos created by AI could lead to a situation where average people \"would not be able to know what is true anymore.\" He also expressed concerns about the impact of AI on the job market, as machines could eventually replace roles such as paralegals, personal assistants, and translators.\n",
      "\n",
      "Sources:\n",
      "- https://www.artificialintelligence-news.com/2023/05/02/ai-godfather-warns-dangers-and-quits-google/\n"
     ]
    }
   ],
   "source": [
    "# We generate a response to a query using the chain. The response object is a dictionary containing\n",
    "# an \"answer\" field with the textual answer to the query, and a \"sources\" field containing a string made\n",
    "# of the concatenation of the metadata[\"source\"] strings of the retrieved documents.\n",
    "d_response = chain({\"question\": \"What does Geoffrey Hinton think about recent trends in AI?\"})\n",
    "\n",
    "print(\"Response:\")\n",
    "print(d_response[\"answer\"])\n",
    "print(\"Sources:\")\n",
    "for source in d_response[\"sources\"].split(\", \"):\n",
    "    print(\"- \" + source)"
   ]
  },
  {
   "cell_type": "code",
   "execution_count": null,
   "metadata": {},
   "outputs": [],
   "source": []
  }
 ],
 "metadata": {
  "kernelspec": {
   "display_name": "env",
   "language": "python",
   "name": "python3"
  },
  "language_info": {
   "codemirror_mode": {
    "name": "ipython",
    "version": 3
   },
   "file_extension": ".py",
   "mimetype": "text/x-python",
   "name": "python",
   "nbconvert_exporter": "python",
   "pygments_lexer": "ipython3",
   "version": "3.9.0"
  },
  "orig_nbformat": 4
 },
 "nbformat": 4,
 "nbformat_minor": 2
}
