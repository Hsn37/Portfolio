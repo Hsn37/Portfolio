{
 "cells": [
  {
   "cell_type": "markdown",
   "metadata": {},
   "source": [
    "### Building Autonomous Agents to Create Analysis Reports"
   ]
  },
  {
   "cell_type": "code",
   "execution_count": 1,
   "metadata": {},
   "outputs": [],
   "source": [
    "# We scrape several Artificial Intelligence news\n",
    "\n",
    "import requests\n",
    "from newspaper import Article # https://github.com/codelucas/newspaper\n",
    "import time\n",
    "\n",
    "headers = {\n",
    "    'User-Agent': 'Mozilla/5.0 (Windows NT 10.0; Win64; x64) AppleWebKit/537.36 (KHTML, like Gecko) Chrome/89.0.4389.82 Safari/537.36'\n",
    "}\n",
    "\n",
    "article_urls = [\n",
    "    \"https://www.artificialintelligence-news.com/2023/05/23/meta-open-source-speech-ai-models-support-over-1100-languages/\",\n",
    "    \"https://www.artificialintelligence-news.com/2023/05/18/beijing-launches-campaign-against-ai-generated-misinformation/\"\n",
    "    \"https://www.artificialintelligence-news.com/2023/05/16/openai-ceo-ai-regulation-is-essential/\",\n",
    "    \"https://www.artificialintelligence-news.com/2023/05/15/jay-migliaccio-ibm-watson-on-leveraging-ai-to-improve-productivity/\",\n",
    "    \"https://www.artificialintelligence-news.com/2023/05/15/iurii-milovanov-softserve-how-ai-ml-is-helping-boost-innovation-and-personalisation/\",\n",
    "    \"https://www.artificialintelligence-news.com/2023/05/11/ai-and-big-data-expo-north-america-begins-in-less-than-one-week/\",\n",
    "    \"https://www.artificialintelligence-news.com/2023/05/11/eu-committees-green-light-ai-act/\",\n",
    "    \"https://www.artificialintelligence-news.com/2023/05/09/wozniak-warns-ai-will-power-next-gen-scams/\",\n",
    "    \"https://www.artificialintelligence-news.com/2023/05/09/infocepts-ceo-shashank-garg-on-the-da-market-shifts-and-impact-of-ai-on-data-analytics/\",\n",
    "    \"https://www.artificialintelligence-news.com/2023/05/02/ai-godfather-warns-dangers-and-quits-google/\",\n",
    "    \"https://www.artificialintelligence-news.com/2023/04/28/palantir-demos-how-ai-can-used-military/\",\n",
    "    \"https://www.artificialintelligence-news.com/2023/04/26/ftc-chairwoman-no-ai-exemption-to-existing-laws/\",\n",
    "    \"https://www.artificialintelligence-news.com/2023/04/24/bill-gates-ai-teaching-kids-literacy-within-18-months/\",\n",
    "    \"https://www.artificialintelligence-news.com/2023/04/21/google-creates-new-ai-division-to-challenge-openai/\"\n",
    "]\n",
    "\n",
    "session = requests.Session()\n",
    "pages_content = [] # where we save the scraped articles\n",
    "\n",
    "for url in article_urls:\n",
    "    try:\n",
    "        time.sleep(2) # sleep two seconds for gentle scraping\n",
    "        response = session.get(url, headers=headers, timeout=10)\n",
    "\n",
    "        if response.status_code == 200:\n",
    "            article = Article(url)\n",
    "            article.download() # download HTML of webpage\n",
    "            article.parse() # parse HTML to extract the article text\n",
    "            pages_content.append({ \"url\": url, \"text\": article.text })\n",
    "        else:\n",
    "            print(f\"Failed to fetch article at {url}\")\n",
    "    except Exception as e:\n",
    "        print(f\"Error occurred while fetching article at {url}: {e}\")\n",
    "\n",
    "#If an error occurs while fetching an article, we catch the exception and print\n",
    "#an error message. This ensures that even if one article fails to download,\n",
    "#the rest of the articles can still be processed."
   ]
  },
  {
   "cell_type": "code",
   "execution_count": 2,
   "metadata": {},
   "outputs": [
    {
     "name": "stdout",
     "output_type": "stream",
     "text": [
      "Your Deep Lake dataset has been successfully created!\n",
      "The dataset is private so make sure you are logged in!\n"
     ]
    },
    {
     "name": "stderr",
     "output_type": "stream",
     "text": [
      " \r"
     ]
    }
   ],
   "source": [
    "# We'll use an embedding model to compute our documents' embeddings\n",
    "from langchain.embeddings.openai import OpenAIEmbeddings\n",
    "\n",
    "# We'll store the documents and their embeddings in the deep lake vector db\n",
    "from langchain.vectorstores import DeepLake\n",
    "\n",
    "# Setup deep lake\n",
    "embeddings = OpenAIEmbeddings(model=\"text-embedding-ada-002\")\n",
    "\n",
    "# create Deep Lake dataset\n",
    "# TODO: use your organization id here. (by default, org id is your username)\n",
    "my_activeloop_org_id = \"mbilalshahid\"\n",
    "my_activeloop_dataset_name = \"langchain_course_analysis_outline\"\n",
    "dataset_path = f\"hub://{my_activeloop_org_id}/{my_activeloop_dataset_name}\"\n",
    "db = DeepLake(dataset_path=dataset_path, embedding_function=embeddings)"
   ]
  },
  {
   "cell_type": "code",
   "execution_count": 3,
   "metadata": {},
   "outputs": [],
   "source": [
    "# We split the article texts into small chunks\n",
    "\n",
    "from langchain.text_splitter import RecursiveCharacterTextSplitter\n",
    "\n",
    "text_splitter = RecursiveCharacterTextSplitter(chunk_size=1000, chunk_overlap=100)\n",
    "\n",
    "all_texts = []\n",
    "for d in pages_content:\n",
    "    chunks = text_splitter.split_text(d[\"text\"])\n",
    "    for chunk in chunks:\n",
    "        all_texts.append(chunk)"
   ]
  },
  {
   "cell_type": "code",
   "execution_count": 4,
   "metadata": {},
   "outputs": [
    {
     "name": "stderr",
     "output_type": "stream",
     "text": [
      "|"
     ]
    },
    {
     "name": "stdout",
     "output_type": "stream",
     "text": [
      "Dataset(path='hub://mbilalshahid/langchain_course_analysis_outline', tensors=['embedding', 'id', 'metadata', 'text'])\n",
      "\n",
      "  tensor      htype      shape      dtype  compression\n",
      "  -------    -------    -------    -------  ------- \n",
      " embedding  embedding  (94, 1536)  float32   None   \n",
      "    id        text      (94, 1)      str     None   \n",
      " metadata     json      (94, 1)      str     None   \n",
      "   text       text      (94, 1)      str     None   \n"
     ]
    },
    {
     "name": "stderr",
     "output_type": "stream",
     "text": [
      " \r"
     ]
    },
    {
     "data": {
      "text/plain": [
       "['2ba1d4ca-5720-11ee-b60b-d83bbf21f498',\n",
       " '2ba1d4cb-5720-11ee-98a7-d83bbf21f498',\n",
       " '2ba1d4cc-5720-11ee-b082-d83bbf21f498',\n",
       " '2ba1d4cd-5720-11ee-b8f9-d83bbf21f498',\n",
       " '2ba1d4ce-5720-11ee-9aea-d83bbf21f498',\n",
       " '2ba1d4cf-5720-11ee-8297-d83bbf21f498',\n",
       " '2ba1d4d0-5720-11ee-9092-d83bbf21f498',\n",
       " '2ba1d4d1-5720-11ee-bdca-d83bbf21f498',\n",
       " '2ba1d4d2-5720-11ee-a0b8-d83bbf21f498',\n",
       " '2ba1d4d3-5720-11ee-9f19-d83bbf21f498',\n",
       " '2ba1d4d4-5720-11ee-99ea-d83bbf21f498',\n",
       " '2ba1d4d5-5720-11ee-bac4-d83bbf21f498',\n",
       " '2ba1d4d6-5720-11ee-b229-d83bbf21f498',\n",
       " '2ba1d4d7-5720-11ee-b51c-d83bbf21f498',\n",
       " '2ba1d4d8-5720-11ee-9369-d83bbf21f498',\n",
       " '2ba1d4d9-5720-11ee-bdf0-d83bbf21f498',\n",
       " '2ba1d4da-5720-11ee-9e80-d83bbf21f498',\n",
       " '2ba1d4db-5720-11ee-96ea-d83bbf21f498',\n",
       " '2ba1d4dc-5720-11ee-a556-d83bbf21f498',\n",
       " '2ba1d4dd-5720-11ee-b910-d83bbf21f498',\n",
       " '2ba1d4de-5720-11ee-ba1e-d83bbf21f498',\n",
       " '2ba1d4df-5720-11ee-8dfa-d83bbf21f498',\n",
       " '2ba1d4e0-5720-11ee-a04c-d83bbf21f498',\n",
       " '2ba1d4e1-5720-11ee-88e9-d83bbf21f498',\n",
       " '2ba1d4e2-5720-11ee-9209-d83bbf21f498',\n",
       " '2ba1fac6-5720-11ee-88f1-d83bbf21f498',\n",
       " '2ba1fac7-5720-11ee-b05f-d83bbf21f498',\n",
       " '2ba1fac8-5720-11ee-8611-d83bbf21f498',\n",
       " '2ba1fac9-5720-11ee-a793-d83bbf21f498',\n",
       " '2ba1faca-5720-11ee-b329-d83bbf21f498',\n",
       " '2ba1facb-5720-11ee-9008-d83bbf21f498',\n",
       " '2ba1facc-5720-11ee-bf2f-d83bbf21f498',\n",
       " '2ba1facd-5720-11ee-ba39-d83bbf21f498',\n",
       " '2ba1face-5720-11ee-a215-d83bbf21f498',\n",
       " '2ba1facf-5720-11ee-bee5-d83bbf21f498',\n",
       " '2ba1fad0-5720-11ee-ad21-d83bbf21f498',\n",
       " '2ba1fad1-5720-11ee-b3da-d83bbf21f498',\n",
       " '2ba1fad2-5720-11ee-a685-d83bbf21f498',\n",
       " '2ba1fad3-5720-11ee-b9bd-d83bbf21f498',\n",
       " '2ba1fad4-5720-11ee-8967-d83bbf21f498',\n",
       " '2ba1fad5-5720-11ee-93d9-d83bbf21f498',\n",
       " '2ba1fad6-5720-11ee-8652-d83bbf21f498',\n",
       " '2ba1fad7-5720-11ee-aeb5-d83bbf21f498',\n",
       " '2ba1fad8-5720-11ee-84b8-d83bbf21f498',\n",
       " '2ba1fad9-5720-11ee-b986-d83bbf21f498',\n",
       " '2ba1fada-5720-11ee-b66e-d83bbf21f498',\n",
       " '2ba1fadb-5720-11ee-abc6-d83bbf21f498',\n",
       " '2ba1fadc-5720-11ee-9521-d83bbf21f498',\n",
       " '2ba1fadd-5720-11ee-9e37-d83bbf21f498',\n",
       " '2ba1fade-5720-11ee-a3d3-d83bbf21f498',\n",
       " '2ba1fadf-5720-11ee-8671-d83bbf21f498',\n",
       " '2ba1fae0-5720-11ee-96a4-d83bbf21f498',\n",
       " '2ba1fae1-5720-11ee-9bc9-d83bbf21f498',\n",
       " '2ba1fae2-5720-11ee-943c-d83bbf21f498',\n",
       " '2ba1fae3-5720-11ee-a718-d83bbf21f498',\n",
       " '2ba1fae4-5720-11ee-a8fc-d83bbf21f498',\n",
       " '2ba1fae5-5720-11ee-ba6e-d83bbf21f498',\n",
       " '2ba1fae6-5720-11ee-8d16-d83bbf21f498',\n",
       " '2ba1fae7-5720-11ee-bddc-d83bbf21f498',\n",
       " '2ba1fae8-5720-11ee-a35c-d83bbf21f498',\n",
       " '2ba1fae9-5720-11ee-9e87-d83bbf21f498',\n",
       " '2ba1faea-5720-11ee-9c55-d83bbf21f498',\n",
       " '2ba1faeb-5720-11ee-b761-d83bbf21f498',\n",
       " '2ba1faec-5720-11ee-a15d-d83bbf21f498',\n",
       " '2ba1faed-5720-11ee-90ab-d83bbf21f498',\n",
       " '2ba1faee-5720-11ee-83fc-d83bbf21f498',\n",
       " '2ba1faef-5720-11ee-b385-d83bbf21f498',\n",
       " '2ba1faf0-5720-11ee-bac8-d83bbf21f498',\n",
       " '2ba1faf1-5720-11ee-a31d-d83bbf21f498',\n",
       " '2ba1faf2-5720-11ee-ba9f-d83bbf21f498',\n",
       " '2ba1faf3-5720-11ee-80e6-d83bbf21f498',\n",
       " '2ba1faf4-5720-11ee-85f8-d83bbf21f498',\n",
       " '2ba1faf5-5720-11ee-ae0f-d83bbf21f498',\n",
       " '2ba1faf6-5720-11ee-b5c4-d83bbf21f498',\n",
       " '2ba1faf7-5720-11ee-9986-d83bbf21f498',\n",
       " '2ba1faf8-5720-11ee-ad74-d83bbf21f498',\n",
       " '2ba1faf9-5720-11ee-b4ca-d83bbf21f498',\n",
       " '2ba1fafa-5720-11ee-b23e-d83bbf21f498',\n",
       " '2ba1fafb-5720-11ee-aac3-d83bbf21f498',\n",
       " '2ba1fafc-5720-11ee-a804-d83bbf21f498',\n",
       " '2ba1fafd-5720-11ee-8012-d83bbf21f498',\n",
       " '2ba1fafe-5720-11ee-a729-d83bbf21f498',\n",
       " '2ba1faff-5720-11ee-9f96-d83bbf21f498',\n",
       " '2ba1fb00-5720-11ee-b4fe-d83bbf21f498',\n",
       " '2ba1fb01-5720-11ee-b786-d83bbf21f498',\n",
       " '2ba1fb02-5720-11ee-9552-d83bbf21f498',\n",
       " '2ba1fb03-5720-11ee-8f9c-d83bbf21f498',\n",
       " '2ba1fb04-5720-11ee-aebc-d83bbf21f498',\n",
       " '2ba1fb05-5720-11ee-94d0-d83bbf21f498',\n",
       " '2ba1fb06-5720-11ee-ad08-d83bbf21f498',\n",
       " '2ba1fb07-5720-11ee-b7b5-d83bbf21f498',\n",
       " '2ba1fb08-5720-11ee-8407-d83bbf21f498',\n",
       " '2ba1fb09-5720-11ee-8c3a-d83bbf21f498',\n",
       " '2ba1fb0a-5720-11ee-bab0-d83bbf21f498']"
      ]
     },
     "execution_count": 4,
     "metadata": {},
     "output_type": "execute_result"
    }
   ],
   "source": [
    "# we add all the chunks to the Deep lake\n",
    "db.add_texts(all_texts)"
   ]
  },
  {
   "cell_type": "code",
   "execution_count": 5,
   "metadata": {},
   "outputs": [],
   "source": [
    "# Get the retriever object from the deep lake db object and set the number\n",
    "# of retrieved documents to 3\n",
    "retriever = db.as_retriever()\n",
    "retriever.search_kwargs['k'] = 3\n",
    "\n",
    "# We define some variables that will be used inside our custom tool\n",
    "CUSTOM_TOOL_DOCS_SEPARATOR =\"\\n---------------\\n\" # how to join together the retrieved docs to form a single string\n",
    "\n",
    "# This is the function that defines our custom tool that retrieves relevant\n",
    "# docs from Deep Lake\n",
    "def retrieve_n_docs_tool(query: str) -> str:\n",
    "    \"\"\"Searches for relevant documents that may contain the answer to the query.\"\"\"\n",
    "    docs = retriever.get_relevant_documents(query)\n",
    "    texts = [doc.page_content for doc in docs]\n",
    "    texts_merged = \"---------------\\n\" + CUSTOM_TOOL_DOCS_SEPARATOR.join(texts) + \"\\n---------------\"\n",
    "    return texts_merged"
   ]
  },
  {
   "cell_type": "code",
   "execution_count": 6,
   "metadata": {},
   "outputs": [],
   "source": [
    "from langchain.agents.tools import Tool\n",
    "\n",
    "# We create the tool that uses the \"retrieve_n_docs_tool\" function\n",
    "tools = [\n",
    "    Tool(\n",
    "        name=\"Search Private Docs\",\n",
    "        func=retrieve_n_docs_tool,\n",
    "        description=\"useful for when you need to answer questions about current events about Artificial Intelligence\"\n",
    "    )\n",
    "]"
   ]
  },
  {
   "cell_type": "code",
   "execution_count": 7,
   "metadata": {},
   "outputs": [],
   "source": [
    "from langchain.chat_models import ChatOpenAI\n",
    "from langchain.experimental.plan_and_execute import PlanAndExecute, load_agent_executor, load_chat_planner\n",
    "\n",
    "# let's create the Plan and Execute agent\n",
    "model = ChatOpenAI(model_name=\"gpt-3.5-turbo\", temperature=0)\n",
    "planner = load_chat_planner(model)\n",
    "executor = load_agent_executor(model, tools, verbose=True)\n",
    "agent = PlanAndExecute(planner=planner, executor=executor, verbose=True)"
   ]
  },
  {
   "cell_type": "code",
   "execution_count": null,
   "metadata": {},
   "outputs": [],
   "source": [
    "# we test the agent\n",
    "response = agent.run(\"Write an overview of Artificial Intelligence regulations by governments of country\")"
   ]
  },
  {
   "cell_type": "code",
   "execution_count": null,
   "metadata": {},
   "outputs": [],
   "source": [
    "#  Entering new PlanAndExecute chain...\n",
    "\n",
    "# steps=[Step(value='Research the current state of Artificial Intelligence (AI) regulations in various countries.'), Step(value='Identify the key countries with significant AI regulations or ongoing discussions about AI regulations.'), Step(value='Summarize the AI regulations or discussions in each identified country.'), Step(value='Organize the information by country, providing an overview of the AI regulations in each.'), Step(value='Given the above steps taken, provide an overview of Artificial Intelligence regulations by governments by country.\\n')]"
   ]
  },
  {
   "cell_type": "code",
   "execution_count": null,
   "metadata": {},
   "outputs": [],
   "source": [
    "# > Entering new AgentExecutor chain...Action:\n",
    "# ```\n",
    "# {\n",
    "#   \"action\": \"Search Private Docs\",\n",
    "#   \"action_input\": \"current state of Artificial Intelligence regulations in various countries\"\n",
    "# }\n",
    "# ```\n",
    "# Observation: ---------------\n",
    "# “US-based AI developers will likely steal a march on their European competitors given the news that the EU parliamentary committees have green-lit its groundbreaking AI Act, where AI systems will need to be categorized according to their potential for harm from the outset. The US tech approach is typically to experiment first and, once market and product fit is established, to retrofit to other markets and their regulatory framework. This approach fosters innovation whereas EU-based AI developers will need to take note of the new rules and develop systems and processes which may take the edge off their ability to innovate. The UK is adopting a similar approach to the US, although the proximity of the EU market means that UK-based developers are more likely to fall into step with the EU ruleset from the outset. However, the potential to experiment in a safe space – a regulatory sandbox – may prove very attractive.”\n",
    "# ---------------\n",
    "# To boost AI innovation, MEPs added exemptions to these rules for research activities and AI components provided under open-source licenses. The new law also promotes regulatory sandboxes – or controlled environments established by public authorities – to test AI before its deployment.\n",
    "\n",
    "# MEPs want to boost citizens’ right to file complaints about AI systems and receive explanations of decisions based on high-risk AI systems that significantly impact their rights. MEPs also reformed the role of the EU AI Office, which would be tasked with monitoring how the AI rulebook is implemented.\n",
    "\n",
    "# Tim Wright, Tech and AI Regulatory Partner at London-based law firm Fladgate commented:\n",
    "# ---------------\n",
    "# Ryan is a senior editor at TechForge Media with over a decade of experience covering the latest technology and interviewing leading industry figures. He can often be sighted at tech conferences with a strong coffee in one hand and a laptop in the other. If it's geeky, he’s probably into it. Find him on Twitter (@Gadget_Ry) or Mastodon (@gadgetry@techhub.social)\n",
    "\n",
    "# The Internal Market Committee and the Civil Liberties Committee of the European Parliament have endorsed new transparency and risk-management rules for artificial intelligence systems known as the AI Act.\n",
    "\n",
    "# This marks a major step in the development of AI regulation in Europe, as these are the first-ever rules for AI. The rules aim to ensure that AI systems are safe, transparent, traceable, and non-discriminatory.\n",
    "\n",
    "# After the vote, co-rapporteur Brando Benifei (S&D, Italy) said:\n",
    "# ---------------\n",
    "# Thought: I have information about the current state of AI regulations in the EU, US, and UK. I can provide a summary of the AI regulations in these regions.\n",
    "# Action:\n",
    "# ```\n",
    "# {\n",
    "#   \"action\": \"Final Answer\",\n",
    "#   \"action_input\": \"The current state of AI regulations varies across countries. In the European Union, the AI Act has been endorsed by the Internal Market Committee and the Civil Liberties Committee, marking a major step in AI regulation. The AI Act aims to ensure that AI systems are safe, transparent, traceable, and non-discriminatory. In the United States, AI developers typically experiment first and then retrofit their products to other markets and regulatory frameworks, fostering innovation. The UK is adopting a similar approach to the US, but its proximity to the EU market means that UK-based developers are more likely to align with the EU ruleset from the outset. Regulatory sandboxes, or controlled environments established by public authorities, are being promoted to test AI before deployment.\"\n",
    "# }\n",
    "# ```> Finished chain."
   ]
  },
  {
   "cell_type": "code",
   "execution_count": null,
   "metadata": {},
   "outputs": [],
   "source": [
    "print(response)"
   ]
  },
  {
   "cell_type": "code",
   "execution_count": null,
   "metadata": {},
   "outputs": [],
   "source": [
    "# European Union: The AI Act has been endorsed by the Internal Market Committee and the Civil Liberties Committee, aiming to ensure AI systems are safe, transparent, traceable, and non-discriminatory.\n",
    "\n",
    "# United States: AI developers typically experiment first and then retrofit their products to other markets and regulatory frameworks, fostering innovation.\n",
    "\n",
    "# United Kingdom: The UK is adopting a similar approach to the US, but its proximity to the EU market means that UK-based developers are more likely to align with the EU ruleset from the outset. Regulatory sandboxes are being promoted to test AI before deployment.\n"
   ]
  }
 ],
 "metadata": {
  "kernelspec": {
   "display_name": "env",
   "language": "python",
   "name": "python3"
  },
  "language_info": {
   "codemirror_mode": {
    "name": "ipython",
    "version": 3
   },
   "file_extension": ".py",
   "mimetype": "text/x-python",
   "name": "python",
   "nbconvert_exporter": "python",
   "pygments_lexer": "ipython3",
   "version": "3.9.0"
  },
  "orig_nbformat": 4
 },
 "nbformat": 4,
 "nbformat_minor": 2
}
